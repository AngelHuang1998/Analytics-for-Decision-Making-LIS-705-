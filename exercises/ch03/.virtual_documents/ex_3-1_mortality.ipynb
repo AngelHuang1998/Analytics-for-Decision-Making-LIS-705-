


import pandas as pd





mortality_data = pd.read_pickle('mortality_prepped.pkl')
mortality_data.head()


mortality_wide = pd.read_pickle('mortality_wide.pkl')
mortality_wide.head()





mortality_data.query('AgeGroup == "01-04 Years"').plot.scatter(x='Year', y='DeathRate')


mortality_wide.plot()



