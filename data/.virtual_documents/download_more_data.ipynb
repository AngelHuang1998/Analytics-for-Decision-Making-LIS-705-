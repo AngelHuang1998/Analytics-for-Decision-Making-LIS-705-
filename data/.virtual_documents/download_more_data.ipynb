








import pandas as pd
from urllib import request
from zipfile import ZipFile
import sqlite3





zip_url = 'https://www.bls.gov/oes/special.requests/oesm18all.zip'
request.urlretrieve(zip_url, filename='oesm18all.zip')


file_names = list() 
with ZipFile('oesm18all.zip', mode='r') as zip:
    zip.extractall()
    for file in zip.infolist():
        file_names.append(file.filename)
        print(file.filename, file.compress_size, file.file_size)





zip_url = 'http://gss.norc.org/Documents/stata/gss_stata_with_codebook.zip'
request.urlretrieve(zip_url,filename='gss_stata_with_codebook.zip')


with ZipFile('gss_stata_with_codebook.zip', mode='r') as zip:
    zip.extractall() 
    for file in zip.infolist():    
        print(file.filename, file.compress_size, file.file_size)





fires_url = 'https://www.fs.usda.gov/rds/archive/products/RDS-2013-0009.4/RDS-2013-0009.4_SQLITE.zip'
request.urlretrieve(fires_url, filename='RDS-2013-0009.4_SQLITE.zip')


with ZipFile('RDS-2013-0009.4_SQLITE.zip', mode='r') as zip:
    zip.extractall()
    for file in zip.infolist():
       print(file.filename, file.compress_size, file.file_size)



