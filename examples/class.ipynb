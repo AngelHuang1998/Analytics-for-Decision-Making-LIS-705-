{
 "cells": [
  {
   "cell_type": "code",
   "execution_count": 1,
   "id": "79736041",
   "metadata": {},
   "outputs": [
    {
     "data": {
      "text/plain": [
       "-17.42857142857143"
      ]
     },
     "execution_count": 1,
     "metadata": {},
     "output_type": "execute_result"
    }
   ],
   "source": [
    "# Arithmatic expressions: the calculation is performed, the result printed, and then\n",
    "# if not stored in a variable, the result gets deleted by the garbage collector\n",
    "3 + 4 / 7 - 2 * 14 \\\n",
    "    + 7"
   ]
  },
  {
   "cell_type": "code",
   "execution_count": 2,
   "id": "d8c05471",
   "metadata": {},
   "outputs": [],
   "source": [
    "# Assignment statements \n",
    "my_data = 3 + 4 / 7 - 2 * 14 \\\n",
    "    + 7"
   ]
  },
  {
   "cell_type": "code",
   "execution_count": 3,
   "id": "d97314ae",
   "metadata": {},
   "outputs": [
    {
     "name": "stdout",
     "output_type": "stream",
     "text": [
      "Variable   Type     Data/Info\n",
      "-----------------------------\n",
      "my_data    float    -17.42857142857143\n"
     ]
    }
   ],
   "source": [
    "# Print the names and properties of the variables that are stored in memory\n",
    "%whos"
   ]
  },
  {
   "cell_type": "code",
   "execution_count": 4,
   "id": "986247e4",
   "metadata": {},
   "outputs": [
    {
     "data": {
      "text/plain": [
       "3"
      ]
     },
     "execution_count": 4,
     "metadata": {},
     "output_type": "execute_result"
    }
   ],
   "source": [
    "# Convert floats to ints\n",
    "int(3.0)"
   ]
  },
  {
   "cell_type": "code",
   "execution_count": 5,
   "id": "dacc7c0b",
   "metadata": {},
   "outputs": [
    {
     "data": {
      "text/plain": [
       "3.0"
      ]
     },
     "execution_count": 5,
     "metadata": {},
     "output_type": "execute_result"
    }
   ],
   "source": [
    "# Convert ints to floats\n",
    "float(3)"
   ]
  },
  {
   "cell_type": "code",
   "execution_count": 6,
   "id": "78beb1f6",
   "metadata": {},
   "outputs": [
    {
     "data": {
      "text/plain": [
       "True"
      ]
     },
     "execution_count": 6,
     "metadata": {},
     "output_type": "execute_result"
    }
   ],
   "source": [
    "# If you compare an int to a float, the int will be converted to a float before\n",
    "# the comparison is performed, so that an error is not thrown\n",
    "3.0 == 3"
   ]
  },
  {
   "cell_type": "code",
   "execution_count": 7,
   "id": "53ef4fda",
   "metadata": {},
   "outputs": [],
   "source": [
    "# Assign some different representations of numbers\n",
    "x = 3"
   ]
  },
  {
   "cell_type": "code",
   "execution_count": 8,
   "id": "b46f9044",
   "metadata": {},
   "outputs": [],
   "source": [
    "y = '4'"
   ]
  },
  {
   "cell_type": "code",
   "execution_count": 9,
   "id": "fe09f7cc",
   "metadata": {},
   "outputs": [],
   "source": [
    "z = '5.6'"
   ]
  },
  {
   "cell_type": "code",
   "execution_count": 10,
   "id": "0e3e8975",
   "metadata": {},
   "outputs": [
    {
     "ename": "TypeError",
     "evalue": "unsupported operand type(s) for +: 'int' and 'str'",
     "output_type": "error",
     "traceback": [
      "\u001b[1;31m---------------------------------------------------------------------------\u001b[0m",
      "\u001b[1;31mTypeError\u001b[0m                                 Traceback (most recent call last)",
      "\u001b[1;32m<ipython-input-10-ad61e567d7c7>\u001b[0m in \u001b[0;36m<module>\u001b[1;34m\u001b[0m\n\u001b[0;32m      1\u001b[0m \u001b[1;31m# Errors from incompatable data types\u001b[0m\u001b[1;33m\u001b[0m\u001b[1;33m\u001b[0m\u001b[1;33m\u001b[0m\u001b[0m\n\u001b[1;32m----> 2\u001b[1;33m \u001b[0mx\u001b[0m \u001b[1;33m+\u001b[0m \u001b[0my\u001b[0m\u001b[1;33m\u001b[0m\u001b[1;33m\u001b[0m\u001b[0m\n\u001b[0m",
      "\u001b[1;31mTypeError\u001b[0m: unsupported operand type(s) for +: 'int' and 'str'"
     ]
    }
   ],
   "source": [
    "# Errors from incompatable data types\n",
    "x + y"
   ]
  },
  {
   "cell_type": "code",
   "execution_count": 11,
   "id": "b24e275c",
   "metadata": {},
   "outputs": [
    {
     "data": {
      "text/plain": [
       "48"
      ]
     },
     "execution_count": 11,
     "metadata": {},
     "output_type": "execute_result"
    }
   ],
   "source": [
    "# x + int(y + z) will throw an error because you can't covert a string\n",
    "# representing a number wiht a decimal into an int directly\n",
    "x + int(float(y + z))"
   ]
  },
  {
   "cell_type": "code",
   "execution_count": null,
   "id": "6f483b6d",
   "metadata": {},
   "outputs": [],
   "source": []
  },
  {
   "cell_type": "code",
   "execution_count": 12,
   "id": "04f9441e",
   "metadata": {},
   "outputs": [
    {
     "data": {
      "text/plain": [
       "'45.6'"
      ]
     },
     "execution_count": 12,
     "metadata": {},
     "output_type": "execute_result"
    }
   ],
   "source": [
    "# '+' concatenates two strings\n",
    "y + z"
   ]
  },
  {
   "cell_type": "code",
   "execution_count": 13,
   "id": "4661ffe0",
   "metadata": {},
   "outputs": [
    {
     "data": {
      "text/plain": [
       "True"
      ]
     },
     "execution_count": 13,
     "metadata": {},
     "output_type": "execute_result"
    }
   ],
   "source": [
    "# Logical comparison\n",
    "x <= float(z)"
   ]
  },
  {
   "cell_type": "code",
   "execution_count": 14,
   "id": "104e1f21",
   "metadata": {},
   "outputs": [
    {
     "name": "stdout",
     "output_type": "stream",
     "text": [
      "nope\n"
     ]
    }
   ],
   "source": [
    "# Combining a logical comparison with an if -> else code block to execute conditional code\n",
    "# Note the 4 spaces on lines after each colon\n",
    "# The way python knows when to stop the \"if\" or \"else\" code block is an unindented line\n",
    "if x > float(y):\n",
    "    print(\"Yep\")\n",
    "else:\n",
    "    print(\"nope\")"
   ]
  },
  {
   "cell_type": "code",
   "execution_count": 15,
   "id": "6af91c6b",
   "metadata": {},
   "outputs": [
    {
     "data": {
      "text/plain": [
       "[3, 4.0, 'a', 'a']"
      ]
     },
     "execution_count": 15,
     "metadata": {},
     "output_type": "execute_result"
    }
   ],
   "source": [
    "# Make a list and store it\n",
    "mylist = [3, 4.0, 'a', 'a']\n",
    "mylist"
   ]
  },
  {
   "cell_type": "code",
   "execution_count": 18,
   "id": "d609f296",
   "metadata": {},
   "outputs": [
    {
     "data": {
      "text/plain": [
       "3"
      ]
     },
     "execution_count": 18,
     "metadata": {},
     "output_type": "execute_result"
    }
   ],
   "source": [
    "# Access list elements with their integer position\n",
    "mylist[0]"
   ]
  },
  {
   "cell_type": "code",
   "execution_count": 21,
   "id": "fb56a6b3",
   "metadata": {},
   "outputs": [
    {
     "data": {
      "text/plain": [
       "[3, 4.0, 'a']"
      ]
     },
     "execution_count": 21,
     "metadata": {},
     "output_type": "execute_result"
    }
   ],
   "source": [
    "# Access list elements with slices; the last number gets excluded (so 0, 1, and 2 will be accessed in the slice below but not 3)\n",
    "mylist[0:3]"
   ]
  },
  {
   "cell_type": "code",
   "execution_count": 1,
   "id": "ab18f29a",
   "metadata": {},
   "outputs": [
    {
     "data": {
      "text/plain": [
       "{'a': 4, 'b': 3}"
      ]
     },
     "execution_count": 1,
     "metadata": {},
     "output_type": "execute_result"
    }
   ],
   "source": [
    "# Make a dictionary\n",
    "d = {'a':1, 'b':3, 'a':4}\n",
    "d"
   ]
  },
  {
   "cell_type": "code",
   "execution_count": 27,
   "id": "792869cd",
   "metadata": {},
   "outputs": [
    {
     "data": {
      "text/plain": [
       "2"
      ]
     },
     "execution_count": 27,
     "metadata": {},
     "output_type": "execute_result"
    }
   ],
   "source": [
    "# Use the len() function to figure out the length of a container (the number of things inside it)\n",
    "len(d)"
   ]
  },
  {
   "cell_type": "code",
   "execution_count": 28,
   "id": "e2db6eec",
   "metadata": {},
   "outputs": [
    {
     "data": {
      "text/plain": [
       "3"
      ]
     },
     "execution_count": 28,
     "metadata": {},
     "output_type": "execute_result"
    }
   ],
   "source": [
    "d['b']"
   ]
  },
  {
   "cell_type": "code",
   "execution_count": null,
   "id": "bc72be6a",
   "metadata": {},
   "outputs": [],
   "source": [
    "# Define a function. Like an \"if\" statement, the code continues in indented lines until the first unindented line\n",
    "# Note if you want more code blocks nested inside, you just add four more spaces to work in that code block"
   ]
  },
  {
   "cell_type": "code",
   "execution_count": 2,
   "id": "cbfcbe92",
   "metadata": {},
   "outputs": [],
   "source": [
    "def sum_elements(datalist):\n",
    "    value = 0\n",
    "    for x in datalist:\n",
    "        if isinstance(x, (int, float, complex)) :   #isinstance是用來:檢查變數 x 是否是 int、float 或 complex 這三種類型之一。如果是的話，為 True。\n",
    "            value = value + x\n",
    "    return(value)\n"
   ]
  },
  {
   "cell_type": "code",
   "execution_count": 30,
   "id": "647e4507",
   "metadata": {},
   "outputs": [
    {
     "name": "stdout",
     "output_type": "stream",
     "text": [
      "Variable       Type        Data/Info\n",
      "------------------------------------\n",
      "d              dict        n=2\n",
      "my_data        float       -17.42857142857143\n",
      "mylist         list        n=4\n",
      "sum_elements   function    <function sum_elements at 0x000001D67F8DB3A0>\n",
      "x              int         3\n",
      "y              str         4\n",
      "z              str         5.6\n"
     ]
    }
   ],
   "source": [
    "%whos"
   ]
  },
  {
   "cell_type": "code",
   "execution_count": 31,
   "id": "ccc37dc9",
   "metadata": {},
   "outputs": [
    {
     "data": {
      "text/plain": [
       "7.0"
      ]
     },
     "execution_count": 31,
     "metadata": {},
     "output_type": "execute_result"
    }
   ],
   "source": [
    "# Call the element you defined\n",
    "sum_elements(mylist)"
   ]
  },
  {
   "cell_type": "code",
   "execution_count": 32,
   "id": "5501f686",
   "metadata": {},
   "outputs": [
    {
     "data": {
      "text/plain": [
       "[6, 7.0]"
      ]
     },
     "execution_count": 32,
     "metadata": {},
     "output_type": "execute_result"
    }
   ],
   "source": [
    "[x + 3 for x in mylist if isinstance(x, (int, float, complex))]"
   ]
  },
  {
   "cell_type": "code",
   "execution_count": 33,
   "id": "304a0ec6",
   "metadata": {},
   "outputs": [
    {
     "data": {
      "text/plain": [
       "[6, 7.0]"
      ]
     },
     "execution_count": 33,
     "metadata": {},
     "output_type": "execute_result"
    }
   ],
   "source": [
    "mynewlist = []\n",
    "for x in mylist:\n",
    "    if isinstance(x, (int, float, complex)):\n",
    "        x = x + 3\n",
    "        mynewlist = mynewlist + [x]\n",
    "mynewlist"
   ]
  },
  {
   "cell_type": "code",
   "execution_count": 34,
   "id": "3eb7f283",
   "metadata": {},
   "outputs": [],
   "source": [
    "# Define a class. The one below will create instances of a data_container object that\n",
    "# will have a list of data named 'data' and three functions named sum_elements,\n",
    "# remove_nonnumeric, and mean_elements that can be accessed with dot notation.\n",
    "\n",
    "class data_container:\n",
    "    def __init__(self, data=[]):\n",
    "        self.data = data\n",
    "    def sum_elements(self):\n",
    "        value = 0\n",
    "        for x in self.data:\n",
    "            if isinstance(x, (int, float, complex)) :\n",
    "                value = value + x\n",
    "        return(value)\n",
    "    def remove_nonnumeric(self, inplace=False):\n",
    "        newlist = [x for x in self.data if isinstance(x, (int, float, complex))]\n",
    "        if inplace:\n",
    "            self.data = newlist\n",
    "        else:\n",
    "            return(newlist)\n",
    "    def mean_elements(self):\n",
    "        n = len(self.remove_nonnumeric(inplace=False))\n",
    "        return(self.sum_elements() / n)\n"
   ]
  },
  {
   "cell_type": "code",
   "execution_count": 35,
   "id": "d4aa3792",
   "metadata": {},
   "outputs": [
    {
     "data": {
      "text/plain": [
       "<__main__.data_container at 0x1d67f82ed90>"
      ]
     },
     "execution_count": 35,
     "metadata": {},
     "output_type": "execute_result"
    }
   ],
   "source": [
    "# Call the data_container constructor function by using it like a function\n",
    "data_container()"
   ]
  },
  {
   "cell_type": "code",
   "execution_count": 36,
   "id": "bfb1f700",
   "metadata": {},
   "outputs": [
    {
     "data": {
      "text/plain": [
       "[7, 10, 1.2, 'b']"
      ]
     },
     "execution_count": 36,
     "metadata": {},
     "output_type": "execute_result"
    }
   ],
   "source": [
    "mylist\n",
    "mylist2 = [7, 10, 1.2, 'b']\n",
    "mylist2"
   ]
  },
  {
   "cell_type": "code",
   "execution_count": 37,
   "id": "2669ff3b",
   "metadata": {},
   "outputs": [
    {
     "data": {
      "text/plain": [
       "<__main__.data_container at 0x1d67f82eca0>"
      ]
     },
     "execution_count": 37,
     "metadata": {},
     "output_type": "execute_result"
    }
   ],
   "source": [
    "# This time give it some data to hold and store it as 'my_object'\n",
    "my_object = data_container(mylist)\n",
    "my_object"
   ]
  },
  {
   "cell_type": "code",
   "execution_count": 38,
   "id": "d9bce5a4",
   "metadata": {},
   "outputs": [],
   "source": [
    "my_object2 = data_container(mylist2)"
   ]
  },
  {
   "cell_type": "code",
   "execution_count": 39,
   "id": "e4adebf7",
   "metadata": {},
   "outputs": [
    {
     "data": {
      "text/plain": [
       "[3, 4.0, 'a', 'a']"
      ]
     },
     "execution_count": 39,
     "metadata": {},
     "output_type": "execute_result"
    }
   ],
   "source": [
    "# Access the data with dot notation\n",
    "my_object.data"
   ]
  },
  {
   "cell_type": "code",
   "execution_count": 40,
   "id": "a358b476",
   "metadata": {},
   "outputs": [
    {
     "data": {
      "text/plain": [
       "[7, 10, 1.2, 'b']"
      ]
     },
     "execution_count": 40,
     "metadata": {},
     "output_type": "execute_result"
    }
   ],
   "source": [
    "my_object2.data"
   ]
  },
  {
   "cell_type": "code",
   "execution_count": 41,
   "id": "f8c72434",
   "metadata": {},
   "outputs": [
    {
     "data": {
      "text/plain": [
       "7.0"
      ]
     },
     "execution_count": 41,
     "metadata": {},
     "output_type": "execute_result"
    }
   ],
   "source": [
    "# Call the sum_elements function\n",
    "my_object.sum_elements()"
   ]
  },
  {
   "cell_type": "code",
   "execution_count": 42,
   "id": "fc50ca59",
   "metadata": {},
   "outputs": [],
   "source": [
    "my_object.remove_nonnumeric(inplace=True)"
   ]
  },
  {
   "cell_type": "code",
   "execution_count": 43,
   "id": "7142d433",
   "metadata": {},
   "outputs": [
    {
     "data": {
      "text/plain": [
       "[3, 4.0]"
      ]
     },
     "execution_count": 43,
     "metadata": {},
     "output_type": "execute_result"
    }
   ],
   "source": [
    "# Check to see if the data changed\n",
    "my_object.data"
   ]
  },
  {
   "cell_type": "code",
   "execution_count": 44,
   "id": "87347ec9",
   "metadata": {},
   "outputs": [
    {
     "data": {
      "text/plain": [
       "[7, 10, 1.2]"
      ]
     },
     "execution_count": 44,
     "metadata": {},
     "output_type": "execute_result"
    }
   ],
   "source": [
    "my_object2.remove_nonnumeric(inplace=False)"
   ]
  },
  {
   "cell_type": "code",
   "execution_count": 45,
   "id": "e4ea6134",
   "metadata": {},
   "outputs": [
    {
     "data": {
      "text/plain": [
       "[7, 10, 1.2, 'b']"
      ]
     },
     "execution_count": 45,
     "metadata": {},
     "output_type": "execute_result"
    }
   ],
   "source": [
    "my_object2.data"
   ]
  },
  {
   "cell_type": "code",
   "execution_count": null,
   "id": "98be2d3e",
   "metadata": {},
   "outputs": [],
   "source": [
    "# Calling remove_nonnumeric with defaults and it will return a new copy of the list with nonnumeric values removed"
   ]
  },
  {
   "cell_type": "code",
   "execution_count": 46,
   "id": "48e4d57e",
   "metadata": {},
   "outputs": [],
   "source": [
    "# This time call remove_nonnumeric with inplace=True, and it should change the internal data in my_object\n",
    "my_object2.remove_nonnumeric(inplace=True)"
   ]
  },
  {
   "cell_type": "code",
   "execution_count": 47,
   "id": "1f2c861c",
   "metadata": {},
   "outputs": [
    {
     "data": {
      "text/plain": [
       "[7, 10, 1.2]"
      ]
     },
     "execution_count": 47,
     "metadata": {},
     "output_type": "execute_result"
    }
   ],
   "source": [
    "# Verify that this is true\n",
    "my_object2.data"
   ]
  },
  {
   "cell_type": "code",
   "execution_count": null,
   "id": "7b39ce40",
   "metadata": {},
   "outputs": [],
   "source": [
    "class optional:\n",
    "    def __init__(self, data=[], x=None, y=None):\n",
    "        self.data = data\n",
    "        if isinstance(x, (int, complex, float, str)):\n",
    "            self.data = self.data + [x]\n",
    "        if isinstance(y, (int, complex, float, str)):\n",
    "            self.data = self.data + [y]\n",
    "    def product(self):\n",
    "        value = 1\n",
    "        for x in self.data:\n",
    "            if isinstance(x, (int, float)):\n",
    "                value *= x\n",
    "        return(value)\n",
    "    def simpleproduct(self, x, y):\n",
    "        return(x * y)\n"
   ]
  },
  {
   "cell_type": "code",
   "execution_count": null,
   "id": "ab521b1f",
   "metadata": {},
   "outputs": [],
   "source": [
    "n = optional([3.7, 2.3], 3, 4)"
   ]
  },
  {
   "cell_type": "code",
   "execution_count": null,
   "id": "eb1db997",
   "metadata": {},
   "outputs": [],
   "source": [
    "n.product()"
   ]
  },
  {
   "cell_type": "code",
   "execution_count": null,
   "id": "42e0933d",
   "metadata": {},
   "outputs": [],
   "source": [
    "n.simpleproduct(3.7,2.3)"
   ]
  },
  {
   "cell_type": "code",
   "execution_count": null,
   "id": "0466e8d5",
   "metadata": {},
   "outputs": [],
   "source": [
    "n.data"
   ]
  },
  {
   "cell_type": "code",
   "execution_count": null,
   "id": "a7d07ac6",
   "metadata": {},
   "outputs": [],
   "source": []
  }
 ],
 "metadata": {
  "kernelspec": {
   "display_name": "Python 3 (ipykernel)",
   "language": "python",
   "name": "python3"
  },
  "language_info": {
   "codemirror_mode": {
    "name": "ipython",
    "version": 3
   },
   "file_extension": ".py",
   "mimetype": "text/x-python",
   "name": "python",
   "nbconvert_exporter": "python",
   "pygments_lexer": "ipython3",
   "version": "3.10.12"
  }
 },
 "nbformat": 4,
 "nbformat_minor": 5
}
