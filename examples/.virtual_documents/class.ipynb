# Arithmatic expressions: the calculation is performed, the result printed, and then
# if not stored in a variable, the result gets deleted by the garbage collector
3 + 4 / 7 - 2 * 14 \
    + 7


# Assignment statements 
my_data = 3 + 4 / 7 - 2 * 14 \
    + 7


# Print the names and properties of the variables that are stored in memory
%whos


# Convert floats to ints
int(3.0)


# Convert ints to floats
float(3)


# If you compare an int to a float, the int will be converted to a float before
# the comparison is performed, so that an error is not thrown
3.0 == 3


# Assign some different representations of numbers
x = 3


y = '4'


z = '5.6'


# Errors from incompatable data types
x + y


# x + int(y + z) will throw an error because you can't covert a string
# representing a number wiht a decimal into an int directly
x + int(float(y + z))





# '+' concatenates two strings
y + z


# Logical comparison
x <= float(z)


# Combining a logical comparison with an if -> else code block to execute conditional code
# Note the 4 spaces on lines after each colon
# The way python knows when to stop the "if" or "else" code block is an unindented line
if x > float(y):
    print("Yep")
else:
    print("nope")


# Make a list and store it
mylist = [3, 4.0, 'a', 'a']
mylist


# Access list elements with their integer position
mylist[0]


# Access list elements with slices; the last number gets excluded (so 0, 1, and 2 will be accessed in the slice below but not 3)
mylist[0:3]


# Make a dictionary
d = {'a':1, 'b':3, 'a':4}
d


# Use the len() function to figure out the length of a container (the number of things inside it)
len(d)


d['b']


# Define a function. Like an "if" statement, the code continues in indented lines until the first unindented line
# Note if you want more code blocks nested inside, you just add four more spaces to work in that code block


def sum_elements(datalist):
    value = 0
    for x in datalist:
        if isinstance(x, (int, float, complex)) :
            value = value + x
    return(value)



%whos


# Call the element you defined
sum_elements(mylist)


[x + 3 for x in mylist if isinstance(x, (int, float, complex))]


mynewlist = []
for x in mylist:
    if isinstance(x, (int, float, complex)):
        x = x + 3
        mynewlist = mynewlist + [x]
mynewlist


# Define a class. The one below will create instances of a data_container object that
# will have a list of data named 'data' and three functions named sum_elements,
# remove_nonnumeric, and mean_elements that can be accessed with dot notation.

class data_container:
    def __init__(self, data=[]):
        self.data = data
    def sum_elements(self):
        value = 0
        for x in self.data:
            if isinstance(x, (int, float, complex)) :
                value = value + x
        return(value)
    def remove_nonnumeric(self, inplace=False):
        newlist = [x for x in self.data if isinstance(x, (int, float, complex))]
        if inplace:
            self.data = newlist
        else:
            return(newlist)
    def mean_elements(self):
        n = len(self.remove_nonnumeric(inplace=False))
        return(self.sum_elements() / n)



# Call the data_container constructor function by using it like a function
data_container()


mylist
mylist2 = [7, 10, 1.2, 'b']
mylist2


# This time give it some data to hold and store it as 'my_object'
my_object = data_container(mylist)
my_object


my_object2 = data_container(mylist2)


# Access the data with dot notation
my_object.data


my_object2.data


# Call the sum_elements function
my_object.sum_elements()


my_object.remove_nonnumeric(inplace=True)


# Check to see if the data changed
my_object.data


my_object2.remove_nonnumeric(inplace=False)


my_object2.data


# Calling remove_nonnumeric with defaults and it will return a new copy of the list with nonnumeric values removed


# This time call remove_nonnumeric with inplace=True, and it should change the internal data in my_object
my_object2.remove_nonnumeric(inplace=True)


# Verify that this is true
my_object2.data


class optional:
    def __init__(self, data=[], x=None, y=None):
        self.data = data
        if isinstance(x, (int, complex, float, str)):
            self.data = self.data + [x]
        if isinstance(y, (int, complex, float, str)):
            self.data = self.data + [y]
    def product(self):
        value = 1
        for x in self.data:
            if isinstance(x, (int, float)):
                value *= x
        return(value)
    def simpleproduct(self, x, y):
        return(x * y)



n = optional([3.7, 2.3], 3, 4)


n.product()


n.simpleproduct(3.7,2.3)


n.data



